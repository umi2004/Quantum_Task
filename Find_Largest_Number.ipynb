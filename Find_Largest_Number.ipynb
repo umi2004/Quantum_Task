{
 "cells": [
  {
   "cell_type": "code",
   "execution_count": 5,
   "id": "9ff0b726-f828-4bbf-bd5b-366ae08f38b7",
   "metadata": {},
   "outputs": [
    {
     "name": "stderr",
     "output_type": "stream",
     "text": [
      "ibmqfactory.load_account:WARNING:2023-03-08 14:50:25,930: Credentials are already in use. The existing account in the session will be replaced.\n"
     ]
    },
    {
     "name": "stdout",
     "output_type": "stream",
     "text": [
      "Libraries Imported Successfully!\n"
     ]
    }
   ],
   "source": [
    "import numpy as np\n",
    "\n",
    "# Importing standard Qiskit libraries\n",
    "from qiskit import QuantumCircuit, transpile, Aer, IBMQ\n",
    "from qiskit.tools.jupyter import *\n",
    "from qiskit.visualization import *\n",
    "from ibm_quantum_widgets import *\n",
    "from qiskit.providers.aer import QasmSimulator\n",
    "from qiskit.algorithms import AmplificationProblem\n",
    "from qiskit.algorithms import Grover\n",
    "import math\n",
    "from qiskit.quantum_info import Statevector\n",
    "import matplotlib.pyplot as plt\n",
    "from qiskit import QuantumCircuit, QuantumRegister, ClassicalRegister, Aer, execute\n",
    "\n",
    "# Loading your IBM Quantum account(s)\n",
    "provider = IBMQ.load_account()\n",
    "\n",
    "print(\"Libraries Imported Successfully!\")"
   ]
  },
  {
   "cell_type": "code",
   "execution_count": 168,
   "id": "b0f31fac-7505-4ebd-ad4e-6cec87004932",
   "metadata": {},
   "outputs": [
    {
     "name": "stdout",
     "output_type": "stream",
     "text": [
      "{'100': 1024}\n"
     ]
    },
    {
     "data": {
      "image/png": "[encoded data removed]",
      "text/plain": [
       "<Figure size 504x360 with 1 Axes>"
      ]
     },
     "execution_count": 168,
     "metadata": {},
     "output_type": "execute_result"
    }
   ],
   "source": [
    "from qiskit import QuantumCircuit, Aer, execute\n",
    "\n",
    "# Define the decimal numbers to be converted to binary\n",
    "number_1 = 1\n",
    "number_2 = 5\n",
    "\n",
    "# Determine the number of qubits required\n",
    "n = max(len(bin(number_1)), len(bin(number_2)))-2\n",
    "\n",
    "cr = ClassicalRegister(n, 'c') # create a classical register to store the result of the comparison\n",
    "qr1 = QuantumRegister(n, 'q1') # create a quantum register for the first integer\n",
    "qr2 = QuantumRegister(n, 'q2') # create a quantum register for the second integer\n",
    "qr_diff = QuantumRegister(n, 'diff') # create a quantum register for the difference\n",
    "qr_results = QuantumRegister(1, 'results')\n",
    "qc = QuantumCircuit(qr1,qr2,qr_diff,qr_results,cr)# Create a quantum circuit with n qubits and n classical bits\n",
    "\n",
    "# Apply X gates to the qubits corresponding to 1s in the binary representation of the decimal number\n",
    "binary = bin(number_1)[2:].zfill(n)\n",
    "binary2 = bin(number_2)[2:].zfill(n)\n",
    "\n",
    "\n",
    "\n",
    "for i in range(n):\n",
    "    if binary[-(i+1)] == '1':\n",
    "        qc.x(qr1[i])\n",
    "    if binary2[-(i+1)] == '1':\n",
    "        qc.x(qr2[i])\n",
    "\n",
    "\n",
    "# Compute the difference using the two's complement method\n",
    "for i in range(n):\n",
    "    qc.cx(qr1[i], qr_diff[i])\n",
    "    qc.cx(qr2[i], qr_diff[i])\n",
    "    \n",
    "for i in range(n):\n",
    "    qc.measure(qr_diff[i], cr[i])\n",
    "\n",
    "backend = Aer.get_backend('qasm_simulator')\n",
    "counts = execute(qc, backend=backend, shots=1024).result().get_counts()\n",
    "print(counts)\n",
    "plot_histogram(counts)\n",
    "\n",
    "\n",
    "    # Run the circuit on the qasm simulator and print the result\n",
    "    # backend = Aer.get_backend('qasm_simulator')\n",
    "    # result = execute(qc, backend).result()\n",
    "    # counts = result.get_counts(qc)\n",
    "    # binary = max(counts, key=counts.get)\n",
    "    # print(f\"Decimal {decimal} is represented in binary as {binary}.\")\n",
    "    \n",
    "    \"\"\"\n",
    "    Notes: \n",
    "        I have struggled to complete the task, so I'll describe what I have tried and how I think about this problem. \n",
    "        I was interested in data and statistical analysis, so Task 1 looks interesting. \n",
    "        From my analysis, I found that based on finding which number is bigger, \n",
    "        I have to think about the smallest number in the computer language, binary numbers. \n",
    "        So I start searching about how binary numbers work and how adding and subtracting will cause the result to be binary numbers. \n",
    "        I found a couple of assumptions in my mind and started testing only using python. \n",
    "        I gained a lot of knowledge about binary, and I started to search for what kind of algorithms might help to compare two numbers. \n",
    "        First, I could use Oracle and Grover's Operation to reduce or increase the height of the amplitude so I could find which binary is bigger. \n",
    "        I also tried to use the Bit Shifts, which will help to compare two binary numbers. \n",
    "        I also tried to create my algorithms from scratch to be more flexible, but It didn't work well. \n",
    "        The hope that I was thinking is that by comparing the two numbers' differences, \n",
    "        using the x and cx gate and registering on the auxiliary qubit, I could solve it as a True and False statement. \n",
    "        Which may help to detect whether the first element is larger or not. It worked, but It won't work after it gets larger numbers. \n",
    "        While searching algorithms and thinking graphically, I thought I could use Quantum Phase Estimation, which is out of my knowledge. \n",
    "        I'm unhappy I couldn't figure it out but I did my best. If you could, I want the answer for this task to be completed. \n",
    "        \n",
    "        Thanks!!\n",
    "    \"\"\"\n",
    "    "
   ]
  },
  {
   "cell_type": "code",
   "execution_count": null,
   "id": "5adbc918-58b6-481c-b459-9377b76fd207",
   "metadata": {},
   "outputs": [],
   "source": []
  },
  {
   "cell_type": "code",
   "execution_count": null,
   "id": "d8d2424e-7aaa-4313-914a-a3bf5a828f6e",
   "metadata": {},
   "outputs": [],
   "source": []
  },
  {
   "cell_type": "code",
   "execution_count": null,
   "id": "12eb7f7e-bb3f-44fe-8b91-330481b8c732",
   "metadata": {},
   "outputs": [],
   "source": []
  }
 ],
 "metadata": {
  "kernelspec": {
   "display_name": "Python 3 (ipykernel)",
   "language": "python",
   "name": "python3"
  },
  "language_info": {
   "codemirror_mode": {
    "name": "ipython",
    "version": 3
   },
   "file_extension": ".py",
   "mimetype": "text/x-python",
   "name": "python",
   "nbconvert_exporter": "python",
   "pygments_lexer": "ipython3",
   "version": "3.8.15"
  },
  "widgets": {
   "application/vnd.jupyter.widget-state+json": {
    "state": {},
    "version_major": 2,
    "version_minor": 0
   }
  }
 },
 "nbformat": 4,
 "nbformat_minor": 5
}
